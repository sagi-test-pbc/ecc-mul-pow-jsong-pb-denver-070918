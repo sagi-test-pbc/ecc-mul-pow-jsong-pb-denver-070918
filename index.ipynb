{
 "cells": [
  {
   "cell_type": "markdown",
   "metadata": {},
   "source": [
    "# Finite Field Multiplication and Exponentiation\n",
    "\n",
    "Just as we defined a new addition ($+~f~$) for Finite Fields that was _closed_, we can also define a new multiplication for Finite Fields that's also closed. By multiplying the same number many times, we can also define exponentiation or power. In this section, we'll go through exactly how to define this using modulo arithmetic."
   ]
  },
  {
   "cell_type": "markdown",
   "metadata": {},
   "source": [
    "### Try solving these equations in \\\\(F_{31}\\\\):\n",
    "\n",
    "\\\\(24\\cdot19=?\\\\)\n",
    "\n",
    "\\\\(17^3=?\\\\)\n",
    "\n",
    "\\\\(5^5\\cdot18=?\\\\)"
   ]
  },
  {
   "cell_type": "code",
   "execution_count": 25,
   "metadata": {},
   "outputs": [],
   "source": [
    "# remember that ** is the exponentiation operator\n",
    "prime = 31\n",
    "# 24*19=?\n",
    "# 17^3=?\n",
    "# 5^5*18=?"
   ]
  },
  {
   "cell_type": "markdown",
   "metadata": {},
   "source": [
    "#### Write a program to calculate \\\\(0k, 1k, 2k, 3k, ... 30k\\\\) for some k in \\\\(F_{31}\\\\).  Notice anything about these sets?"
   ]
  },
  {
   "cell_type": "code",
   "execution_count": 26,
   "metadata": {},
   "outputs": [],
   "source": [
    "from random import randint\n",
    "\n",
    "prime = 31\n",
    "k = randint(1,prime)\n",
    "\n",
    "# use range(prime) to iterate over all numbers from 0 to 30 inclusive"
   ]
  },
  {
   "cell_type": "markdown",
   "metadata": {},
   "source": [
    "#### Write a program to calculate \\\\(k^{30}\\\\) for all k in \\\\(F_{31}\\\\). Notice anything?"
   ]
  },
  {
   "cell_type": "code",
   "execution_count": 15,
   "metadata": {},
   "outputs": [
    {
     "name": "stdout",
     "output_type": "stream",
     "text": [
      "[3]\n",
      "[3, 9]\n",
      "[3, 9, 27]\n",
      "[3, 9, 27, 19]\n",
      "[3, 9, 27, 19, 26]\n",
      "[3, 9, 27, 19, 26, 16]\n",
      "[3, 9, 27, 19, 26, 16, 17]\n",
      "[3, 9, 27, 19, 26, 16, 17, 20]\n",
      "[3, 9, 27, 19, 26, 16, 17, 20, 29]\n",
      "[3, 9, 27, 19, 26, 16, 17, 20, 29, 25]\n",
      "[3, 9, 27, 19, 26, 16, 17, 20, 29, 25, 13]\n",
      "[3, 9, 27, 19, 26, 16, 17, 20, 29, 25, 13, 8]\n",
      "[3, 9, 27, 19, 26, 16, 17, 20, 29, 25, 13, 8, 24]\n",
      "[3, 9, 27, 19, 26, 16, 17, 20, 29, 25, 13, 8, 24, 10]\n",
      "[3, 9, 27, 19, 26, 16, 17, 20, 29, 25, 13, 8, 24, 10, 30]\n",
      "[3, 9, 27, 19, 26, 16, 17, 20, 29, 25, 13, 8, 24, 10, 30, 28]\n",
      "[3, 9, 27, 19, 26, 16, 17, 20, 29, 25, 13, 8, 24, 10, 30, 28, 22]\n",
      "[3, 9, 27, 19, 26, 16, 17, 20, 29, 25, 13, 8, 24, 10, 30, 28, 22, 4]\n",
      "[3, 9, 27, 19, 26, 16, 17, 20, 29, 25, 13, 8, 24, 10, 30, 28, 22, 4, 12]\n",
      "[3, 9, 27, 19, 26, 16, 17, 20, 29, 25, 13, 8, 24, 10, 30, 28, 22, 4, 12, 5]\n",
      "[3, 9, 27, 19, 26, 16, 17, 20, 29, 25, 13, 8, 24, 10, 30, 28, 22, 4, 12, 5, 15]\n",
      "[3, 9, 27, 19, 26, 16, 17, 20, 29, 25, 13, 8, 24, 10, 30, 28, 22, 4, 12, 5, 15, 14]\n",
      "[3, 9, 27, 19, 26, 16, 17, 20, 29, 25, 13, 8, 24, 10, 30, 28, 22, 4, 12, 5, 15, 14, 11]\n",
      "[3, 9, 27, 19, 26, 16, 17, 20, 29, 25, 13, 8, 24, 10, 30, 28, 22, 4, 12, 5, 15, 14, 11, 2]\n",
      "[3, 9, 27, 19, 26, 16, 17, 20, 29, 25, 13, 8, 24, 10, 30, 28, 22, 4, 12, 5, 15, 14, 11, 2, 6]\n",
      "[3, 9, 27, 19, 26, 16, 17, 20, 29, 25, 13, 8, 24, 10, 30, 28, 22, 4, 12, 5, 15, 14, 11, 2, 6, 18]\n",
      "[3, 9, 27, 19, 26, 16, 17, 20, 29, 25, 13, 8, 24, 10, 30, 28, 22, 4, 12, 5, 15, 14, 11, 2, 6, 18, 23]\n",
      "[3, 9, 27, 19, 26, 16, 17, 20, 29, 25, 13, 8, 24, 10, 30, 28, 22, 4, 12, 5, 15, 14, 11, 2, 6, 18, 23, 7]\n",
      "[3, 9, 27, 19, 26, 16, 17, 20, 29, 25, 13, 8, 24, 10, 30, 28, 22, 4, 12, 5, 15, 14, 11, 2, 6, 18, 23, 7, 21]\n",
      "[3, 9, 27, 19, 26, 16, 17, 20, 29, 25, 13, 8, 24, 10, 30, 28, 22, 4, 12, 5, 15, 14, 11, 2, 6, 18, 23, 7, 21, 1]\n"
     ]
    }
   ],
   "source": [
    "prime = 31\n",
    "k=3\n",
    "l=[]\n",
    "\n",
    "for i in range(1,31):\n",
    "   l.append((k**i)%31)\n",
    "print (l)\n",
    "\n",
    "# use range(1, prime) to iterate over all numbers from 1 to 30 inclusive"
   ]
  },
  {
   "cell_type": "markdown",
   "metadata": {},
   "source": [
    "### Test Driven Exercise\n",
    "\n",
    "Create the `__mul__` and `__pow__` methods for your library:"
   ]
  },
  {
   "cell_type": "code",
   "execution_count": 6,
   "metadata": {},
   "outputs": [],
   "source": [
    "from ecc import FieldElement\n",
    "\n",
    "class FieldElement(FieldElement):\n",
    "\n",
    "    def __mul__(self, other):\n",
    "        if self.prime != other.prime:\n",
    "            raise RuntimeError('Primes must be the same')\n",
    "        num = (self.num * other.num) % self.prime\n",
    "\n",
    "        # self.num and other.num are the actual values\n",
    "        prime = self.prime\n",
    "        return self.__class__(num, prime)\n",
    "        # self.prime is what you'll need to mod against\n",
    "        # You need to return an element of the same class\n",
    "        # use: self.__class__(num, prime)\n",
    "\n",
    "    def __pow__(self, n):\n",
    "        prime = self.prime\n",
    "        num = pow(self.num, n, prime)\n",
    "        return self.__class__(num, prime)\n",
    "        # You need to return an element of the same class\n",
    "        # use: self.__class__(num, prime)\n"
   ]
  },
  {
   "cell_type": "code",
   "execution_count": null,
   "metadata": {},
   "outputs": [],
   "source": []
  }
 ],
 "metadata": {
  "kernelspec": {
   "display_name": "Python 3",
   "language": "python",
   "name": "python3"
  },
  "language_info": {
   "codemirror_mode": {
    "name": "ipython",
    "version": 3
   },
   "file_extension": ".py",
   "mimetype": "text/x-python",
   "name": "python",
   "nbconvert_exporter": "python",
   "pygments_lexer": "ipython3",
   "version": "3.6.4"
  }
 },
 "nbformat": 4,
 "nbformat_minor": 2
}
